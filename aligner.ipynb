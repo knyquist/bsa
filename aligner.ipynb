{
 "cells": [
  {
   "cell_type": "code",
   "execution_count": 418,
   "metadata": {},
   "outputs": [],
   "source": [
    "import NeedlemanWunsch as nw\n",
    "reload(nw)\n",
    "import numpy as np"
   ]
  },
  {
   "cell_type": "code",
   "execution_count": 420,
   "metadata": {},
   "outputs": [
    {
     "name": "stdout",
     "output_type": "stream",
     "text": [
      "   GGGGGG(GCTAATTAGCCCCCA)T\n",
      "          || ||||||||||||\n",
      "GAGCTAATT(GC-AATTAGCCCCCA)CTGAAA\n"
     ]
    }
   ],
   "source": [
    "seq1 = 'GGGGGGGCTAATTAGCCCCCAT'\n",
    "seq2 = 'GAGCTAATTGCAATTAGCCCCCACTGAAA'\n",
    "aln = nw.GlobalAlignment(seq1, seq2, mode='local')\n",
    "aln.pprint_alignment()"
   ]
  }
 ],
 "metadata": {
  "kernelspec": {
   "display_name": "Python 2",
   "language": "python",
   "name": "python2"
  },
  "language_info": {
   "codemirror_mode": {
    "name": "ipython",
    "version": 2
   },
   "file_extension": ".py",
   "mimetype": "text/x-python",
   "name": "python",
   "nbconvert_exporter": "python",
   "pygments_lexer": "ipython2",
   "version": "2.7.14"
  }
 },
 "nbformat": 4,
 "nbformat_minor": 2
}
